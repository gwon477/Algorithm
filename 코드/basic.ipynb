{
 "cells": [
  {
   "cell_type": "markdown",
   "metadata": {},
   "source": [
    "자료구조 기초\n",
    "\n",
    "백준 : 2920번\n",
    "\n",
    "- 문제 제목 : 음계\n",
    "- 문제 난이드 : 하(Easy) / 브론즈(백준)\n",
    "- 문제유형 : 배열\n",
    "- 풀이시간 : 10분\n",
    "\n",
    "\n",
    "- 설명\n",
    "\n",
    "    다장조는 c d e f g a b C, 총 8개 음으로 이루어져있다. 이 문제에서 8개 음은 다음과 같이 숫자로 바꾸어 표현한다. c는 1로, d는 2로, ..., C를 8로 바꾼다.\n",
    "\n",
    "    1부터 8까지 차례대로 연주한다면 ascending, 8부터 1까지 차례대로 연주한다면 descending, 둘 다 아니라면 mixed 이다.\n",
    "\n",
    "    연주한 순서가 주어졌을 때, 이것이 ascending인지, descending인지, 아니면 mixed인지 판별하는 프로그램을 작성하시오."
   ]
  },
  {
   "cell_type": "code",
   "execution_count": 45,
   "metadata": {},
   "outputs": [
    {
     "name": "stdout",
     "output_type": "stream",
     "text": [
      "mixed\n"
     ]
    }
   ],
   "source": [
    "# 풀이 A\n",
    "\n",
    "a = list(map(int,input().split()))\n",
    "\n",
    "A_S = [1,2,3,4,5,6,7,8]\n",
    "D_S = [8,7,6,5,4,3,2,1]\n",
    "\n",
    "if a == A_S:\n",
    "    print(\"ascending\")\n",
    "elif a == D_S:\n",
    "    print(\"descending\")\n",
    "else:\n",
    "    print(\"mixed\")"
   ]
  },
  {
   "cell_type": "code",
   "execution_count": 46,
   "metadata": {},
   "outputs": [
    {
     "name": "stdout",
     "output_type": "stream",
     "text": [
      "Mixed\n"
     ]
    }
   ],
   "source": [
    "# 풀이 B\n",
    "\n",
    "a = list(map(int,input().split()))\n",
    "\n",
    "asending = \"True\"\n",
    "desending = \"True\"\n",
    "\n",
    "for i in range(1,8):\n",
    "    if a[i] < a[i-1]:\n",
    "        asending = \"False\"\n",
    "    else:\n",
    "        desending=\"False\"\n",
    "        \n",
    "if asending == \"True\":\n",
    "    print(\"ascending\")\n",
    "elif desending == \"True\":\n",
    "    print(\"descending\")\n",
    "else:\n",
    "    print(\"mixed\")"
   ]
  },
  {
   "cell_type": "markdown",
   "metadata": {},
   "source": [
    "자료구조 기초\n",
    "\n",
    "백준 문제 : 2798번\n",
    "- 문제 난이도 : 하(Easy) / 브론즈(백준)\n",
    "- 문제 유형 : 배열 / 완전탐색\n",
    "- 풀이 시간 : 10분\n",
    "\n",
    "- 문제 설명\n",
    "\n",
    "    카지노에서 제일 인기 있는 게임 블랙잭의 규칙은 상당히 쉽다. 카드의 합이 21을 넘지 않는 한도 내에서, 카드의 합을 최대한 크게 만드는 게임이다. 블랙잭은 카지노마다 다양한 규정이 있다.\n",
    "\n",
    "    한국 최고의 블랙잭 고수 김정인은 새로운 블랙잭 규칙을 만들어 상근, 창영이와 게임하려고 한다.\n",
    "\n",
    "    김정인 버전의 블랙잭에서 각 카드에는 양의 정수가 쓰여 있다. 그 다음, 딜러는 N장의 카드를 모두 숫자가 보이도록 바닥에 놓는다. 그런 후에 딜러는 숫자 M을 크게 외친다.\n",
    "\n",
    "    이제 플레이어는 제한된 시간 안에 N장의 카드 중에서 3장의 카드를 골라야 한다. 블랙잭 변형 게임이기 때문에, 플레이어가 고른 카드의 합은 M을 넘지 않으면서 M과 최대한 가깝게 만들어야 한다.\n",
    "\n",
    "    N장의 카드에 써져 있는 숫자가 주어졌을 때, M을 넘지 않으면서 M에 최대한 가까운 카드 3장의 합을 구해 출력하시오.\n",
    "\n",
    "- 입력\n",
    "\n",
    "    첫째 줄에 카드의 개수 N(3 ≤ N ≤ 100)과 M(10 ≤ M ≤ 300,000)이 주어진다. 둘째 줄에는 카드에 쓰여 있는 수가 주어지며, 이 값은 100,000을 넘지 않는 양의 정수이다.\n",
    "\n",
    "    합이 M을 넘지 않는 카드 3장을 찾을 수 있는 경우만 입력으로 주어진다.\n",
    "\n",
    "- 출력\n",
    "\n",
    "    첫째 줄에 M을 넘지 않으면서 M에 최대한 가까운 카드 3장의 합을 출력한다."
   ]
  },
  {
   "cell_type": "code",
   "execution_count": 58,
   "metadata": {},
   "outputs": [],
   "source": [
    "N, M = map(int, input().split())"
   ]
  },
  {
   "cell_type": "code",
   "execution_count": 59,
   "metadata": {},
   "outputs": [],
   "source": [
    "data = list(map(int, input().split()))\n",
    "    "
   ]
  },
  {
   "cell_type": "code",
   "execution_count": 60,
   "metadata": {},
   "outputs": [
    {
     "name": "stdout",
     "output_type": "stream",
     "text": [
      "497\n"
     ]
    }
   ],
   "source": [
    "result = []\n",
    "for i in range(0,N):\n",
    "    for j in range(i+1,N):\n",
    "        for r in range(j+1,N):\n",
    "            sum_value = data[i] + data[j] + data[r]\n",
    "            if sum_value <= M:\n",
    "                result.append(sum_value)\n",
    "            \n",
    "print(max(result))            "
   ]
  },
  {
   "cell_type": "markdown",
   "metadata": {},
   "source": [
    "자료구조 기초\n",
    "\n",
    "백준 문제 : 1874번\n",
    "- 문제 난이도 : 하(Easy) / 실버(백준)\n",
    "- 문제 유형 : 배열 / 그리디\n",
    "- 풀이 시간 : 10분\n",
    "\n",
    "- 문제 설명\n",
    "\n",
    "    스택 (stack)은 기본적인 자료구조 중 하나로, 컴퓨터 프로그램을 작성할 때 자주 이용되는 개념이다. 스택은 자료를 넣는 (push) 입구와 자료를 뽑는 (pop) 입구가 같아 제일 나중에 들어간 자료가 제일 먼저 나오는 (LIFO, Last in First out) 특성을 가지고 있다.\n",
    "\n",
    "    1부터 n까지의 수를 스택에 넣었다가 뽑아 늘어놓음으로써, 하나의 수열을 만들 수 있다. 이때, 스택에 push하는 순서는 반드시 오름차순을 지키도록 한다고 하자. \n",
    "    \n",
    "    임의의 수열이 주어졌을 때 스택을 이용해 그 수열을 만들 수 있는지 없는지, 있다면 어떤 순서로 push와 pop 연산을 수행해야 하는지를 알아낼 수 있다. 이를 계산하는 프로그램을 작성하라."
   ]
  },
  {
   "cell_type": "markdown",
   "metadata": {},
   "source": [
    "자료구조 기초\n",
    "\n",
    "백준 문제 : 1966번\n",
    "- 문제 난이도 : 하(Easy) / 실버(백준)\n",
    "- 문제 유형 : 큐/ 구현 / 그리디\n",
    "- 풀이 시간 : 10분\n",
    "\n",
    "- 문제 설명\n",
    "\n",
    "    여러분도 알다시피 여러분의 프린터 기기는 여러분이 인쇄하고자 하는 문서를 인쇄 명령을 받은 ‘순서대로’, 즉 먼저 요청된 것을 먼저 인쇄한다. 여러 개의 문서가 쌓인다면 Queue 자료구조에 쌓여서 FIFO - First In First Out - 에 따라 인쇄가 되게 된다. 하지만 상근이는 새로운 프린터기 내부 소프트웨어를 개발하였는데, 이 프린터기는 다음과 같은 조건에 따라 인쇄를 하게 된다.\n",
    "\n",
    "    현재 Queue의 가장 앞에 있는 문서의 ‘중요도’를 확인한다.\n",
    "    나머지 문서들 중 현재 문서보다 중요도가 높은 문서가 하나라도 있다면, 이 문서를 인쇄하지 않고 Queue의 가장 뒤에 재배치 한다. 그렇지 않다면 바로 인쇄를 한다.\n",
    "    예를 들어 Queue에 4개의 문서(A B C D)가 있고, 중요도가 2 1 4 3 라면 C를 인쇄하고, 다음으로 D를 인쇄하고 A, B를 인쇄하게 된다.\n",
    "\n",
    "    여러분이 할 일은, 현재 Queue에 있는 문서의 수와 중요도가 주어졌을 때, 어떤 한 문서가 몇 번째로 인쇄되는지 알아내는 것이다. 예를 들어 위의 예에서 C문서는 1번째로, A문서는 3번째로 인쇄되게 된다."
   ]
  },
  {
   "cell_type": "code",
   "execution_count": 55,
   "metadata": {},
   "outputs": [
    {
     "name": "stdout",
     "output_type": "stream",
     "text": [
      " 3\n",
      " 4 2\n"
     ]
    }
   ],
   "source": [
    "case = int(input())\n",
    "N,M = map(int, input().split())"
   ]
  },
  {
   "cell_type": "code",
   "execution_count": 144,
   "metadata": {},
   "outputs": [
    {
     "name": "stdout",
     "output_type": "stream",
     "text": [
      " 1 2 3 4\n"
     ]
    }
   ],
   "source": [
    "importance = list(map(int, input().split()))"
   ]
  },
  {
   "cell_type": "code",
   "execution_count": 145,
   "metadata": {},
   "outputs": [],
   "source": [
    "aaa = importance.copy()\n",
    "aaa.sort()\n",
    "\n",
    "importance[M] = str(importance[M])"
   ]
  },
  {
   "cell_type": "code",
   "execution_count": 146,
   "metadata": {},
   "outputs": [
    {
     "data": {
      "text/plain": [
       "[1, 2, '3', 4]"
      ]
     },
     "execution_count": 146,
     "metadata": {},
     "output_type": "execute_result"
    }
   ],
   "source": [
    "importance"
   ]
  },
  {
   "cell_type": "code",
   "execution_count": 147,
   "metadata": {},
   "outputs": [
    {
     "name": "stdout",
     "output_type": "stream",
     "text": [
      "[2, '3', 4, 1]\n",
      "['3', 4, 1, 2]\n",
      "[4, 1, 2, '3']\n",
      "[1, 2, '3']\n"
     ]
    },
    {
     "ename": "IndexError",
     "evalue": "list index out of range",
     "output_type": "error",
     "traceback": [
      "\u001b[0;31m---------------------------------------------------------------------------\u001b[0m",
      "\u001b[0;31mIndexError\u001b[0m                                Traceback (most recent call last)",
      "Input \u001b[0;32mIn [147]\u001b[0m, in \u001b[0;36m<cell line: 4>\u001b[0;34m()\u001b[0m\n\u001b[1;32m     16\u001b[0m temp \u001b[38;5;241m=\u001b[39m importance[\u001b[38;5;241m0\u001b[39m]\n\u001b[1;32m     18\u001b[0m \u001b[38;5;28;01mfor\u001b[39;00m i \u001b[38;5;129;01min\u001b[39;00m \u001b[38;5;28mrange\u001b[39m(\u001b[38;5;241m1\u001b[39m,N):\n\u001b[0;32m---> 19\u001b[0m     importance[i\u001b[38;5;241m-\u001b[39m\u001b[38;5;241m1\u001b[39m] \u001b[38;5;241m=\u001b[39m \u001b[43mimportance\u001b[49m\u001b[43m[\u001b[49m\u001b[43mi\u001b[49m\u001b[43m]\u001b[49m\n\u001b[1;32m     21\u001b[0m importance[\u001b[38;5;241m-\u001b[39m\u001b[38;5;241m1\u001b[39m] \u001b[38;5;241m=\u001b[39m temp\n\u001b[1;32m     22\u001b[0m \u001b[38;5;28mprint\u001b[39m(importance)\n",
      "\u001b[0;31mIndexError\u001b[0m: list index out of range"
     ]
    }
   ],
   "source": [
    "cnt = 0\n",
    "result = True\n",
    "\n",
    "while result:\n",
    "    if importance[0] == max(aaa):\n",
    "        if type(importance[0]) == str:\n",
    "            cnt +=1\n",
    "            print(cnt)\n",
    "            result = False\n",
    "        else:\n",
    "            cnt +=1\n",
    "            aaa.pop(-1)\n",
    "            importance.pop(0)\n",
    "            print(importance)\n",
    "    else:\n",
    "        temp = importance[0]\n",
    "\n",
    "        for i in range(1,N):\n",
    "            importance[i-1] = importance[i]\n",
    "\n",
    "        importance[-1] = temp\n",
    "        print(importance)"
   ]
  },
  {
   "cell_type": "code",
   "execution_count": 149,
   "metadata": {},
   "outputs": [
    {
     "name": "stdout",
     "output_type": "stream",
     "text": [
      " 4\n"
     ]
    }
   ],
   "source": [
    "test_case = int(input())"
   ]
  },
  {
   "cell_type": "code",
   "execution_count": 159,
   "metadata": {},
   "outputs": [
    {
     "name": "stdout",
     "output_type": "stream",
     "text": [
      " 1 2 3 4\n"
     ]
    }
   ],
   "source": [
    "queue = list(map(int, input().split()))"
   ]
  },
  {
   "cell_type": "code",
   "execution_count": 160,
   "metadata": {},
   "outputs": [],
   "source": [
    "queue = [(i, idx) for idx, i in enumerate(queue)]"
   ]
  },
  {
   "cell_type": "code",
   "execution_count": 162,
   "metadata": {},
   "outputs": [
    {
     "name": "stdout",
     "output_type": "stream",
     "text": [
      " 4 2\n"
     ]
    }
   ],
   "source": [
    "N,M = map(int, input().split())"
   ]
  },
  {
   "cell_type": "code",
   "execution_count": 165,
   "metadata": {},
   "outputs": [
    {
     "name": "stdout",
     "output_type": "stream",
     "text": [
      " 3\n",
      " 4 2\n",
      " 1 2 3 4\n"
     ]
    },
    {
     "name": "stdout",
     "output_type": "stream",
     "text": [
      "2\n"
     ]
    },
    {
     "name": "stdout",
     "output_type": "stream",
     "text": [
      " 6 0\n",
      " 1 1 9 1 1 1\n"
     ]
    },
    {
     "name": "stdout",
     "output_type": "stream",
     "text": [
      "5\n"
     ]
    },
    {
     "name": "stdout",
     "output_type": "stream",
     "text": [
      " 1 0\n",
      " 5\n"
     ]
    },
    {
     "name": "stdout",
     "output_type": "stream",
     "text": [
      "1\n"
     ]
    }
   ],
   "source": [
    "test_case = int(input())\n",
    "\n",
    "for _ in range(test_case):\n",
    "    \n",
    "    N,M = map(int, input().split())\n",
    "    queue = list(map(int, input().split()))\n",
    "    queue = [(i, idx) for idx, i in enumerate(queue)]\n",
    "    \n",
    "    count = 0\n",
    "\n",
    "    while True:\n",
    "        if queue[0][0] == max(queue, key=lambda x:x[0])[0]:\n",
    "            count +=1\n",
    "            if queue[0][1] == M:\n",
    "                print(count)\n",
    "                break\n",
    "            else:\n",
    "                queue.pop(0)\n",
    "        else:\n",
    "            queue.append(queue.pop(0))"
   ]
  },
  {
   "cell_type": "code",
   "execution_count": 166,
   "metadata": {},
   "outputs": [],
   "source": [
    "a = [1,2,3,4]"
   ]
  },
  {
   "cell_type": "code",
   "execution_count": 167,
   "metadata": {},
   "outputs": [],
   "source": [
    "a.append(a.pop(0))"
   ]
  },
  {
   "cell_type": "code",
   "execution_count": 168,
   "metadata": {},
   "outputs": [
    {
     "data": {
      "text/plain": [
       "[2, 3, 4, 1]"
      ]
     },
     "execution_count": 168,
     "metadata": {},
     "output_type": "execute_result"
    }
   ],
   "source": [
    "a"
   ]
  },
  {
   "cell_type": "markdown",
   "metadata": {},
   "source": [
    "키로거 = 사용자가 키보드를 누른 명령을 기록"
   ]
  },
  {
   "cell_type": "code",
   "execution_count": 269,
   "metadata": {},
   "outputs": [
    {
     "name": "stdout",
     "output_type": "stream",
     "text": [
      " 2\n",
      " <<BP<A>>Cd-\n"
     ]
    },
    {
     "name": "stdout",
     "output_type": "stream",
     "text": [
      "BAPC\n"
     ]
    },
    {
     "name": "stdout",
     "output_type": "stream",
     "text": [
      " ThIsIsS3Cr3t\n"
     ]
    },
    {
     "name": "stdout",
     "output_type": "stream",
     "text": [
      "ThIsIsS3Cr3t\n"
     ]
    }
   ],
   "source": [
    "test_case = int(input())\n",
    "\n",
    "for _ in range(test_case):\n",
    "    \n",
    "    L = str(input())\n",
    "    \n",
    "    temp = []\n",
    "\n",
    "    idx = 0\n",
    "\n",
    "    for i in range(len(L)):\n",
    "        if L[i] == '<':\n",
    "            if idx == 0:\n",
    "                pass\n",
    "            else:\n",
    "                idx -= 1\n",
    "        elif L[i] == '>':\n",
    "            if idx == len(L)-1:\n",
    "                pass\n",
    "            else:\n",
    "                idx +=1   \n",
    "        elif L[i] == '-':\n",
    "            temp.pop(-1)\n",
    "        else:\n",
    "            if idx >= len(temp):\n",
    "                temp.append(L[i])\n",
    "                idx += 1\n",
    "            else:\n",
    "                temp.insert(idx,L[i])\n",
    "            \n",
    "    result = \"\"\n",
    "    for _ in temp:\n",
    "        result += _\n",
    "\n",
    "    print(result)"
   ]
  },
  {
   "cell_type": "code",
   "execution_count": null,
   "metadata": {},
   "outputs": [],
   "source": [
    "스택을 두개 만들고, 스택 두 개의 중간 지점을 커서로 간주한다.\n",
    "문자 입력: 왼쪽 스택에 원소를 삽입한다.\n",
    "- 입력 : 왼쪽 스택에서 원소를 삭제한다.\n",
    "< 입력 : 왼쪽 스택에서 오른쪽 스택으로 원소를 이동한다.\n",
    "> 입력 : 오른쪽 스택에서 왼쪽 스택으로 원소를 이동한다."
   ]
  },
  {
   "cell_type": "code",
   "execution_count": 275,
   "metadata": {},
   "outputs": [],
   "source": [
    "left_stack = []\n",
    "right_stack = []\n",
    "\n",
    "L = '<<BP<A>>Cd-'"
   ]
  },
  {
   "cell_type": "code",
   "execution_count": 291,
   "metadata": {},
   "outputs": [
    {
     "name": "stdout",
     "output_type": "stream",
     "text": [
      "BABAPBAPPC\n"
     ]
    }
   ],
   "source": [
    "for i in range(len(L)):\n",
    "    if L[i] == \"<\":\n",
    "        if left_stack == []:\n",
    "            pass\n",
    "        else:\n",
    "            right_stack.append(left_stack.pop())\n",
    "    elif L[i] == \">\":\n",
    "        if right_stack == []:\n",
    "            pass\n",
    "        else:\n",
    "            left_stack.append(right_stack.pop())\n",
    "    elif L[i] == '-':\n",
    "        left_stack.pop()\n",
    "    else:\n",
    "        left_stack.append(L[i])\n",
    "        \n",
    "print(''.join(left_stack))"
   ]
  },
  {
   "cell_type": "code",
   "execution_count": 287,
   "metadata": {},
   "outputs": [],
   "source": [
    "left_stack.extend(reversed(right_stack))"
   ]
  },
  {
   "cell_type": "code",
   "execution_count": 288,
   "metadata": {},
   "outputs": [
    {
     "data": {
      "text/plain": [
       "['B', 'A', 'P', 'C']"
      ]
     },
     "execution_count": 288,
     "metadata": {},
     "output_type": "execute_result"
    }
   ],
   "source": [
    "left_stack"
   ]
  },
  {
   "cell_type": "code",
   "execution_count": 292,
   "metadata": {},
   "outputs": [
    {
     "name": "stdout",
     "output_type": "stream",
     "text": [
      " 2\n",
      " <<BP<A>>Cd-\n"
     ]
    },
    {
     "name": "stdout",
     "output_type": "stream",
     "text": [
      "BAPC\n"
     ]
    },
    {
     "name": "stdout",
     "output_type": "stream",
     "text": [
      " ThIsIsS3Cr3t\n"
     ]
    },
    {
     "name": "stdout",
     "output_type": "stream",
     "text": [
      "ThIsIsS3Cr3t\n"
     ]
    }
   ],
   "source": [
    "test_case = int(input())\n",
    "\n",
    "for _ in range(test_case):\n",
    "    left_stack = []\n",
    "    right_stack = []\n",
    "    L = str(input())\n",
    "    for i in range(len(L)):\n",
    "        if L[i] == \"<\":\n",
    "            if left_stack == []:\n",
    "                pass\n",
    "            else:\n",
    "                right_stack.append(left_stack.pop())\n",
    "        elif L[i] == \">\":\n",
    "            if right_stack == []:\n",
    "                pass\n",
    "            else:\n",
    "                left_stack.append(right_stack.pop())\n",
    "        elif L[i] == '-':\n",
    "            left_stack.pop()\n",
    "        else:\n",
    "            left_stack.append(L[i])\n",
    "    left_stack.extend(reversed(right_stack))\n",
    "    print(''.join(left_stack))"
   ]
  },
  {
   "cell_type": "code",
   "execution_count": 2,
   "metadata": {},
   "outputs": [
    {
     "name": "stdout",
     "output_type": "stream",
     "text": [
      " 2\n",
      " <<BP<A>>Cd-\n"
     ]
    },
    {
     "name": "stdout",
     "output_type": "stream",
     "text": [
      "BAPC\n"
     ]
    },
    {
     "name": "stdout",
     "output_type": "stream",
     "text": [
      " ThIsIsS3Cr3t\n"
     ]
    },
    {
     "name": "stdout",
     "output_type": "stream",
     "text": [
      "ThIsIsS3Cr3t\n"
     ]
    }
   ],
   "source": [
    "test_case = int(input())\n",
    "\n",
    "for _ in range(test_case):\n",
    "    left_stack = []\n",
    "    right_stack = []\n",
    "    L = input()\n",
    "    for i in L:\n",
    "        if i == \"<\":\n",
    "            if left_stack:\n",
    "                right_stack.append(left_stack.pop())\n",
    "        elif i == \">\":\n",
    "            if right_stack:\n",
    "                left_stack.append(right_stack.pop())\n",
    "        elif i == '-':\n",
    "            if left_stack:\n",
    "                left_stack.pop()\n",
    "        else:\n",
    "            left_stack.append(i)\n",
    "            \n",
    "    left_stack.extend(reversed(right))\n",
    "    \n",
    "    print(''.join(left_stack))"
   ]
  },
  {
   "cell_type": "code",
   "execution_count": 298,
   "metadata": {},
   "outputs": [],
   "source": [
    "a = [1]"
   ]
  },
  {
   "cell_type": "code",
   "execution_count": 299,
   "metadata": {},
   "outputs": [
    {
     "name": "stdout",
     "output_type": "stream",
     "text": [
      "a\n"
     ]
    }
   ],
   "source": [
    "if a:\n",
    "    print(\"a\")"
   ]
  },
  {
   "cell_type": "markdown",
   "metadata": {},
   "source": [
    "## 자료구조 기초\n",
    "\n",
    "### 백준 문제 : 1920번\n",
    "    - 문제 난이도 : 하(Easy) / 실버(백준)\n",
    "    - 문제 유형 : 큐/ 구현 / 그리디\n",
    "    - 풀이 시간 : 10분\n",
    "\n",
    "### 문제 설명\n",
    "\n",
    "    N개의 정수 A[1], A[2], …, A[N]이 주어져 있을 때, 이 안에 X라는 정수가 존재하는지 알아내는 프로그램을 작성하시오.\n",
    "    \n",
    "### 입력\n",
    "\n",
    "    첫째 줄에 자연수 N(1 ≤ N ≤ 100,000)이 주어진다. 다음 줄에는 N개의 정수 A[1], A[2], …, A[N]이 주어진다. 다음 줄에는 M(1 ≤ M ≤ 100,000)이 주어진다. 다음 줄에는 M개의 수들이 주어지는데, 이 수들이 A안에 존재하는지 알아내면 된다. 모든 정수의 범위는 -231 보다 크거나 같고 231보다 작다."
   ]
  },
  {
   "cell_type": "code",
   "execution_count": 6,
   "metadata": {},
   "outputs": [
    {
     "name": "stdout",
     "output_type": "stream",
     "text": [
      "1\n",
      "1\n",
      "0\n",
      "0\n",
      "1\n"
     ]
    }
   ],
   "source": [
    "# My Solution\n",
    "N = int(input())\n",
    "A = list(map(int, input().split()))\n",
    "M = int(input())\n",
    "B = list(map(int, input().split()))\n",
    "\n",
    "for idx in B:\n",
    "    if idx in A:\n",
    "        print(\"1\")\n",
    "    else:\n",
    "        print(\"0\")\n",
    "        \n",
    "\n",
    "# ERROR : 시간 초과\n",
    "\n",
    "# 특정 정수의 등장 여부만을 간단히 체크한다.\n",
    "# Python에서는 dictionary 자료형을 해시처럼 사용할 수 있다.\n",
    "# 본 문제는 set 자료형을 이용해 간단히 풀 수 있다.\n",
    "\n",
    "# 특정 하나의 원소의 여부를 판단하는 경우 set 자료형을 사용해보자\n",
    "\n",
    "N = int(input())\n",
    "A = set(map(int, input().split()))\n",
    "M = int(input())\n",
    "B = list(map(int, input().split()))\n",
    "\n",
    "for idx in B:\n",
    "    if idx in A:\n",
    "        print(\"1\")\n",
    "    else:\n",
    "        print(\"0\")"
   ]
  },
  {
   "cell_type": "markdown",
   "metadata": {},
   "source": [
    "## 자료구조\n",
    "\n",
    "### 백준 문제 :4195번\n",
    "    - 문제 난이도 : 중(Medium) / 골드(백준)\n",
    "    - 문제 유형 : 해시/ 집합/ 그래프\n",
    "    - 풀이 시간 : 30분\n",
    "\n",
    "### 문제 설명\n",
    "\n",
    "    민혁이는 소셜 네트워크 사이트에서 친구를 만드는 것을 좋아하는 친구이다. 우표를 모으는 취미가 있듯이, 민혁이는 소셜 네트워크 사이트에서 친구를 모으는 것이 취미이다.\n",
    "\n",
    "    어떤 사이트의 친구 관계가 생긴 순서대로 주어졌을 때, 두 사람의 친구 네트워크에 몇 명이 있는지 구하는 프로그램을 작성하시오.\n",
    "\n",
    "    친구 네트워크란 친구 관계만으로 이동할 수 있는 사이를 말한다.\n",
    "    \n",
    "### 입력\n",
    "\n",
    "    첫째 줄에 테스트 케이스의 개수가 주어진다. 각 테스트 케이스의 첫째 줄에는 친구 관계의 수 F가 주어지며, 이 값은 100,000을 넘지 않는다. 다음 F개의 줄에는 친구 관계가 생긴 순서대로 주어진다. 친구 관계는 두 사용자의 아이디로 이루어져 있으며, 알파벳 대문자 또는 소문자로만 이루어진 길이 20 이하의 문자열이다.\n",
    "\n",
    "### 출력\n",
    "\n",
    "    친구 관계가 생길 때마다, 두 사람의 친구 네트워크에 몇 명이 있는지 구하는 프로그램을 작성하시오."
   ]
  },
  {
   "cell_type": "code",
   "execution_count": 14,
   "metadata": {},
   "outputs": [],
   "source": [
    "# 해시를 활용한 Union-Find 알고리즘을 이용해 문제를 푼다\n",
    "# Python에서는 dictionary 자료형을 해시처럼 사용할 수 있다.\n",
    "\n",
    "Union-Find : 합집합 찾기\n",
    "        \n",
    "def find(x):\n",
    "    if x == parent[x]:\n",
    "        return x\n",
    "    \n",
    "    else:\n",
    "        p = find(parent[x])\n",
    "        parent[x] = p\n",
    "        return parent[x]\n",
    "\n",
    "def union(x ,y):\n",
    "    x = find(x)\n",
    "    y = find(y)\n",
    "    \n",
    "    if x != y:\n",
    "        parent[y] = x\n",
    "        number[x] += number[y]\n",
    "        \n",
    "        \n",
    "test_case = int(input())\n",
    "\n",
    "for _ in range(test_case):\n",
    "    parent = dict()\n",
    "    number = dict()\n",
    "    \n",
    "    f = int(input())\n",
    "    \n",
    "    for _ in range(f):\n",
    "        x, y = input().split(' ')\n",
    "        \n",
    "        if x not in parent:\n",
    "            parent[x] = x\n",
    "            number[x] = 1\n",
    "            \n",
    "        if y not in parent:\n",
    "            parent[y] = y\n",
    "            parent[y] = 1\n",
    "            \n",
    "        union(x, y)\n",
    "        \n",
    "        print(number[find(x)])\n",
    "        "
   ]
  },
  {
   "cell_type": "code",
   "execution_count": null,
   "metadata": {},
   "outputs": [],
   "source": []
  }
 ],
 "metadata": {
  "interpreter": {
   "hash": "aee8b7b246df8f9039afb4144a1f6fd8d2ca17a180786b69acc140d282b71a49"
  },
  "kernelspec": {
   "display_name": "Python 3 (ipykernel)",
   "language": "python",
   "name": "python3"
  },
  "language_info": {
   "codemirror_mode": {
    "name": "ipython",
    "version": 3
   },
   "file_extension": ".py",
   "mimetype": "text/x-python",
   "name": "python",
   "nbconvert_exporter": "python",
   "pygments_lexer": "ipython3",
   "version": "3.10.5"
  }
 },
 "nbformat": 4,
 "nbformat_minor": 4
}
